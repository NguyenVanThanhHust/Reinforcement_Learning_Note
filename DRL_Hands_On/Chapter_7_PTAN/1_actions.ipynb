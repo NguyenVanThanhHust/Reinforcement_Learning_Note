{
 "cells": [
  {
   "cell_type": "code",
   "execution_count": 1,
   "id": "a0187989-b6bd-41bb-a227-550e1f32e372",
   "metadata": {},
   "outputs": [],
   "source": [
    "import numpy as np\n",
    "import ptan"
   ]
  },
  {
   "cell_type": "markdown",
   "id": "78528aef-d30e-42e3-b60d-3c4d2e3e771a",
   "metadata": {},
   "source": [
    "There are 3 types of action, we are considering:"
   ]
  },
  {
   "cell_type": "markdown",
   "id": "609a5160-5161-4d7e-8a01-323438cf4176",
   "metadata": {},
   "source": [
    "Argmax selector: apply argmax in second axis of tensor"
   ]
  },
  {
   "cell_type": "code",
   "execution_count": 2,
   "id": "28fb1c99-ae0a-4648-b504-73bcdea4567c",
   "metadata": {},
   "outputs": [
    {
     "data": {
      "text/plain": [
       "array([[1, 2, 3],\n",
       "       [5, 7, 4]])"
      ]
     },
     "execution_count": 2,
     "metadata": {},
     "output_type": "execute_result"
    }
   ],
   "source": [
    "q_vals = np.array([[1, 2, 3], [5, 7, 4]])\n",
    "q_vals"
   ]
  },
  {
   "cell_type": "code",
   "execution_count": 3,
   "id": "01f41e34-b57e-4211-b9f0-656fafa6c98a",
   "metadata": {},
   "outputs": [
    {
     "data": {
      "text/plain": [
       "array([2, 1], dtype=int64)"
      ]
     },
     "execution_count": 3,
     "metadata": {},
     "output_type": "execute_result"
    }
   ],
   "source": [
    "selector = ptan.actions.ArgmaxActionSelector()\n",
    "selector(q_vals)"
   ]
  },
  {
   "cell_type": "markdown",
   "id": "3a3aee52-b075-4570-bcbb-d3bc779cf659",
   "metadata": {},
   "source": [
    "When we need a bit more randomness"
   ]
  },
  {
   "cell_type": "code",
   "execution_count": 5,
   "id": "957ac6af-aa36-4ce9-a1ea-2684b425fca2",
   "metadata": {},
   "outputs": [
    {
     "data": {
      "text/plain": [
       "array([2, 1], dtype=int64)"
      ]
     },
     "execution_count": 5,
     "metadata": {},
     "output_type": "execute_result"
    }
   ],
   "source": [
    "selector = ptan.actions.EpsilonGreedyActionSelector(epsilon=0.0)\n",
    "selector(q_vals)"
   ]
  },
  {
   "cell_type": "markdown",
   "id": "41c96243-5f1b-4cf3-9994-0438ac7b07ef",
   "metadata": {},
   "source": [
    "when we want to choose action following a distribution, we normalize input then apply ProbabilityActionSelector()"
   ]
  },
  {
   "cell_type": "code",
   "execution_count": 8,
   "id": "87bf2dc7-b36c-4d42-b35e-f2a638ab7335",
   "metadata": {},
   "outputs": [],
   "source": [
    "selector = ptan.actions.ProbabilityActionSelector()"
   ]
  },
  {
   "cell_type": "code",
   "execution_count": 9,
   "id": "73e1ee5b-4f39-4062-836e-149b7cdbd768",
   "metadata": {},
   "outputs": [
    {
     "name": "stdout",
     "output_type": "stream",
     "text": [
      "[1 2 1]\n",
      "[1 2 1]\n",
      "[1 2 0]\n",
      "[0 2 1]\n",
      "[1 2 1]\n",
      "[1 2 0]\n",
      "[1 2 0]\n",
      "[0 2 1]\n",
      "[1 2 1]\n",
      "[1 2 1]\n"
     ]
    }
   ],
   "source": [
    "for _ in range(10):\n",
    "    input = np.array([\n",
    "        [0.1, 0.8, 0.1], \n",
    "        [0.0, 0.0, 1.0],\n",
    "        [0.5, 0.5, 0.0]\n",
    "    ])\n",
    "    acts = selector(input)\n",
    "    print(acts)"
   ]
  },
  {
   "cell_type": "code",
   "execution_count": null,
   "id": "86bebe29-926a-4f85-8a75-e75e4a0bb285",
   "metadata": {},
   "outputs": [],
   "source": []
  }
 ],
 "metadata": {
  "kernelspec": {
   "display_name": "Python 3 (ipykernel)",
   "language": "python",
   "name": "python3"
  },
  "language_info": {
   "codemirror_mode": {
    "name": "ipython",
    "version": 3
   },
   "file_extension": ".py",
   "mimetype": "text/x-python",
   "name": "python",
   "nbconvert_exporter": "python",
   "pygments_lexer": "ipython3",
   "version": "3.9.17"
  }
 },
 "nbformat": 4,
 "nbformat_minor": 5
}
